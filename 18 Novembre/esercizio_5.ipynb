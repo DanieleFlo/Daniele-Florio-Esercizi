{
 "cells": [
  {
   "cell_type": "markdown",
   "metadata": {},
   "source": []
  },
  {
   "cell_type": "code",
   "execution_count": 39,
   "metadata": {},
   "outputs": [],
   "source": [
    "import pandas as pd\n",
    "import numpy as np"
   ]
  },
  {
   "cell_type": "code",
   "execution_count": 40,
   "metadata": {},
   "outputs": [
    {
     "data": {
      "text/html": [
       "<div>\n",
       "<style scoped>\n",
       "    .dataframe tbody tr th:only-of-type {\n",
       "        vertical-align: middle;\n",
       "    }\n",
       "\n",
       "    .dataframe tbody tr th {\n",
       "        vertical-align: top;\n",
       "    }\n",
       "\n",
       "    .dataframe thead th {\n",
       "        text-align: right;\n",
       "    }\n",
       "</style>\n",
       "<table border=\"1\" class=\"dataframe\">\n",
       "  <thead>\n",
       "    <tr style=\"text-align: right;\">\n",
       "      <th></th>\n",
       "      <th>Name</th>\n",
       "      <th>Department</th>\n",
       "      <th>Salary</th>\n",
       "      <th>Experience</th>\n",
       "    </tr>\n",
       "  </thead>\n",
       "  <tbody>\n",
       "    <tr>\n",
       "      <th>0</th>\n",
       "      <td>Alice</td>\n",
       "      <td>HR</td>\n",
       "      <td>50000</td>\n",
       "      <td>2</td>\n",
       "    </tr>\n",
       "    <tr>\n",
       "      <th>1</th>\n",
       "      <td>Bob</td>\n",
       "      <td>Finance</td>\n",
       "      <td>60000</td>\n",
       "      <td>5</td>\n",
       "    </tr>\n",
       "    <tr>\n",
       "      <th>2</th>\n",
       "      <td>Charlie</td>\n",
       "      <td>IT</td>\n",
       "      <td>70000</td>\n",
       "      <td>8</td>\n",
       "    </tr>\n",
       "    <tr>\n",
       "      <th>3</th>\n",
       "      <td>David</td>\n",
       "      <td>HR</td>\n",
       "      <td>52000</td>\n",
       "      <td>3</td>\n",
       "    </tr>\n",
       "    <tr>\n",
       "      <th>4</th>\n",
       "      <td>Eva</td>\n",
       "      <td>Finance</td>\n",
       "      <td>58000</td>\n",
       "      <td>4</td>\n",
       "    </tr>\n",
       "    <tr>\n",
       "      <th>5</th>\n",
       "      <td>Frank</td>\n",
       "      <td>IT</td>\n",
       "      <td>72000</td>\n",
       "      <td>10</td>\n",
       "    </tr>\n",
       "    <tr>\n",
       "      <th>6</th>\n",
       "      <td>Grace</td>\n",
       "      <td>HR</td>\n",
       "      <td>55000</td>\n",
       "      <td>4</td>\n",
       "    </tr>\n",
       "    <tr>\n",
       "      <th>7</th>\n",
       "      <td>Hannah</td>\n",
       "      <td>Finance</td>\n",
       "      <td>62000</td>\n",
       "      <td>6</td>\n",
       "    </tr>\n",
       "    <tr>\n",
       "      <th>8</th>\n",
       "      <td>Ian</td>\n",
       "      <td>IT</td>\n",
       "      <td>75000</td>\n",
       "      <td>12</td>\n",
       "    </tr>\n",
       "    <tr>\n",
       "      <th>9</th>\n",
       "      <td>Jack</td>\n",
       "      <td>HR</td>\n",
       "      <td>51000</td>\n",
       "      <td>1</td>\n",
       "    </tr>\n",
       "    <tr>\n",
       "      <th>10</th>\n",
       "      <td>Kara</td>\n",
       "      <td>Finance</td>\n",
       "      <td>63000</td>\n",
       "      <td>7</td>\n",
       "    </tr>\n",
       "    <tr>\n",
       "      <th>11</th>\n",
       "      <td>Liam</td>\n",
       "      <td>IT</td>\n",
       "      <td>76000</td>\n",
       "      <td>15</td>\n",
       "    </tr>\n",
       "  </tbody>\n",
       "</table>\n",
       "</div>"
      ],
      "text/plain": [
       "       Name Department  Salary  Experience\n",
       "0     Alice         HR   50000           2\n",
       "1       Bob    Finance   60000           5\n",
       "2   Charlie         IT   70000           8\n",
       "3     David         HR   52000           3\n",
       "4       Eva    Finance   58000           4\n",
       "5     Frank         IT   72000          10\n",
       "6     Grace         HR   55000           4\n",
       "7    Hannah    Finance   62000           6\n",
       "8       Ian         IT   75000          12\n",
       "9      Jack         HR   51000           1\n",
       "10     Kara    Finance   63000           7\n",
       "11     Liam         IT   76000          15"
      ]
     },
     "execution_count": 40,
     "metadata": {},
     "output_type": "execute_result"
    }
   ],
   "source": [
    "# Larger employee dataset\n",
    "data = {\n",
    "'Name': ['Alice', 'Bob', 'Charlie', 'David', 'Eva', 'Frank', 'Grace', 'Hannah', 'Ian', 'Jack', 'Kara', 'Liam'],\n",
    "'Department': ['HR', 'Finance', 'IT', 'HR', 'Finance', 'IT', 'HR', 'Finance', 'IT', 'HR', 'Finance', 'IT'],\n",
    "'Salary': [50000, 60000, 70000, 52000, 58000, 72000, 55000, 62000, 75000, 51000, 63000, 76000],\n",
    "'Experience': [2, 5, 8, 3, 4, 10, 4, 6, 12, 1, 7, 15]\n",
    "}\n",
    "df = pd.DataFrame(data)\n",
    "df"
   ]
  },
  {
   "cell_type": "markdown",
   "metadata": {},
   "source": [
    "1 -> la media dello stipendio e dell'esperienza per ogni dipartimento"
   ]
  },
  {
   "cell_type": "code",
   "execution_count": 41,
   "metadata": {},
   "outputs": [
    {
     "data": {
      "text/plain": [
       "(Department\n",
       " Finance    60750.0\n",
       " HR         52000.0\n",
       " IT         73250.0\n",
       " Name: Salary, dtype: float64,\n",
       " Department\n",
       " Finance     5.50\n",
       " HR          2.50\n",
       " IT         11.25\n",
       " Name: Experience, dtype: float64)"
      ]
     },
     "execution_count": 41,
     "metadata": {},
     "output_type": "execute_result"
    }
   ],
   "source": [
    "grup_dep = df.groupby('Department')\n",
    "avg_stipedio = grup_dep['Salary'].mean()\n",
    "avg_exp = grup_dep['Experience'].mean()\n",
    "\n",
    "avg_stipedio,avg_exp"
   ]
  },
  {
   "cell_type": "markdown",
   "metadata": {},
   "source": [
    "2 -> trovare i dipendenti con uno stipendio sopra la media del loro dipartimento"
   ]
  },
  {
   "cell_type": "code",
   "execution_count": null,
   "metadata": {},
   "outputs": [
    {
     "data": {
      "text/html": [
       "<div>\n",
       "<style scoped>\n",
       "    .dataframe tbody tr th:only-of-type {\n",
       "        vertical-align: middle;\n",
       "    }\n",
       "\n",
       "    .dataframe tbody tr th {\n",
       "        vertical-align: top;\n",
       "    }\n",
       "\n",
       "    .dataframe thead th {\n",
       "        text-align: right;\n",
       "    }\n",
       "</style>\n",
       "<table border=\"1\" class=\"dataframe\">\n",
       "  <thead>\n",
       "    <tr style=\"text-align: right;\">\n",
       "      <th></th>\n",
       "      <th>Name</th>\n",
       "      <th>Department</th>\n",
       "      <th>Salary</th>\n",
       "      <th>Experience</th>\n",
       "      <th>Media</th>\n",
       "    </tr>\n",
       "  </thead>\n",
       "  <tbody>\n",
       "    <tr>\n",
       "      <th>6</th>\n",
       "      <td>Grace</td>\n",
       "      <td>HR</td>\n",
       "      <td>55000</td>\n",
       "      <td>4</td>\n",
       "      <td>52000.0</td>\n",
       "    </tr>\n",
       "    <tr>\n",
       "      <th>7</th>\n",
       "      <td>Hannah</td>\n",
       "      <td>Finance</td>\n",
       "      <td>62000</td>\n",
       "      <td>6</td>\n",
       "      <td>60750.0</td>\n",
       "    </tr>\n",
       "    <tr>\n",
       "      <th>8</th>\n",
       "      <td>Ian</td>\n",
       "      <td>IT</td>\n",
       "      <td>75000</td>\n",
       "      <td>12</td>\n",
       "      <td>73250.0</td>\n",
       "    </tr>\n",
       "    <tr>\n",
       "      <th>10</th>\n",
       "      <td>Kara</td>\n",
       "      <td>Finance</td>\n",
       "      <td>63000</td>\n",
       "      <td>7</td>\n",
       "      <td>60750.0</td>\n",
       "    </tr>\n",
       "    <tr>\n",
       "      <th>11</th>\n",
       "      <td>Liam</td>\n",
       "      <td>IT</td>\n",
       "      <td>76000</td>\n",
       "      <td>15</td>\n",
       "      <td>73250.0</td>\n",
       "    </tr>\n",
       "  </tbody>\n",
       "</table>\n",
       "</div>"
      ],
      "text/plain": [
       "      Name Department  Salary  Experience    Media\n",
       "6    Grace         HR   55000           4  52000.0\n",
       "7   Hannah    Finance   62000           6  60750.0\n",
       "8      Ian         IT   75000          12  73250.0\n",
       "10    Kara    Finance   63000           7  60750.0\n",
       "11    Liam         IT   76000          15  73250.0"
      ]
     },
     "execution_count": 42,
     "metadata": {},
     "output_type": "execute_result"
    }
   ],
   "source": [
    "df['Media'] = df.groupby('Department')['Salary'].transform('mean')\n",
    "\n",
    "df_ricchi = df[df['Salary'] > df['Media']]\n",
    "df_ricchi"
   ]
  },
  {
   "cell_type": "markdown",
   "metadata": {},
   "source": [
    "aggiungere una nuova colonna che rappresenta il rank (consiglio cercate la funzione rank di pandas) di ogni dipendente all'interno del suo dipartimento"
   ]
  },
  {
   "cell_type": "code",
   "execution_count": null,
   "metadata": {},
   "outputs": [],
   "source": [
    "df['Rank'] = df['Salary'].rank()\n",
    "df"
   ]
  },
  {
   "cell_type": "markdown",
   "metadata": {},
   "source": [
    "Mostrare il fataframe raggruppato per dipartimento e ogni dipendente in ordine dal rank più alto al più basso (rank in base allo stipendio)"
   ]
  }
 ],
 "metadata": {
  "kernelspec": {
   "display_name": "Python 3",
   "language": "python",
   "name": "python3"
  },
  "language_info": {
   "codemirror_mode": {
    "name": "ipython",
    "version": 3
   },
   "file_extension": ".py",
   "mimetype": "text/x-python",
   "name": "python",
   "nbconvert_exporter": "python",
   "pygments_lexer": "ipython3",
   "version": "3.12.3"
  }
 },
 "nbformat": 4,
 "nbformat_minor": 2
}
