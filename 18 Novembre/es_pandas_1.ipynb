{
 "cells": [
  {
   "cell_type": "markdown",
   "metadata": {},
   "source": [
    "Analisi Esplorativa dei Dati\n",
    "\n",
    "\n",
    "\n",
    "Obiettivo: Familiarizzare con le operazioni di base per l'esplorazione dei dati\n",
    "usando pandas.\n",
    "\n",
    "\n",
    "\n",
    "Dataset: Utilizzare un dataset di esempio che include le seguenti informazioni su\n",
    "un gruppo di persone: Nome, Età, Città e Salario. \n",
    "\n",
    "\n",
    "\n",
    "Caricare i dati in un DataFrame autogenerandoli casualmente .\n",
    "Visualizzare le prime e le ultime cinque righe del DataFrame.\n",
    "Visualizzare il tipo di dati di ciascuna colonna.\n",
    "Calcolare statistiche descrittive di base per le colonne numeriche (media,\n",
    "mediana, deviazione standard).\n",
    "Identificare e rimuovere eventuali duplicati.\n",
    "Gestire i valori mancanti sostituendoli con la mediana della rispettiva\n",
    "colonna.\n",
    "Aggiungere una nuova colonna chiamata \"Categoria Età\" che classifica le\n",
    "persone come \"Giovane\", \"Adulto\" o \"Senior\" basandosi sull'età (es., 0-18\n",
    "anni: Giovane, 19-65 anni: Adulto, oltre 65 anni: Senior).\n",
    "Salvare il DataFrame pulito in un nuovo file CSV."
   ]
  },
  {
   "cell_type": "code",
   "execution_count": 478,
   "metadata": {},
   "outputs": [],
   "source": [
    "import pandas as pd\n",
    "import numpy as np\n",
    "import random"
   ]
  },
  {
   "cell_type": "code",
   "execution_count": 479,
   "metadata": {},
   "outputs": [],
   "source": [
    "colonne = ['Nome','Età','Città','Salario']\n",
    "len_dati = 1000000"
   ]
  },
  {
   "cell_type": "code",
   "execution_count": 480,
   "metadata": {},
   "outputs": [],
   "source": [
    "lista_nomi = ['Mario', 'Bubbarello', 'Giuseppe', 'Luigi', 'Giacomo', 'Carlo', 'Andrea']\n",
    "lista_citta = ['Roma', 'Siena', 'Milano', 'Verona', 'Cosenza', 'Catanzaro', 'San Lucido']\n",
    "# lista_nomi = ['Mario', 'Bubbarello']\n",
    "# lista_citta = ['Cosenza', 'Catanzaro']\n",
    "dati = []\n",
    "for i in range(len_dati):\n",
    "    dato = [\n",
    "        random.choice(lista_nomi),  #Nome\n",
    "        np.nan  if random.randint(0, 2)==0 else random.randint(16, 22), #Età\n",
    "        random.choice(lista_citta), #Città\n",
    "        np.nan  if random.randint(0, 10)==0 else round(random.randint(1000, 1050))   #Salario\n",
    "        ]\n",
    "    dati.append(dato)"
   ]
  },
  {
   "cell_type": "code",
   "execution_count": 481,
   "metadata": {},
   "outputs": [],
   "source": [
    "frame = pd.DataFrame(dati, columns=colonne)\n"
   ]
  },
  {
   "cell_type": "code",
   "execution_count": 482,
   "metadata": {},
   "outputs": [
    {
     "data": {
      "text/html": [
       "<div>\n",
       "<style scoped>\n",
       "    .dataframe tbody tr th:only-of-type {\n",
       "        vertical-align: middle;\n",
       "    }\n",
       "\n",
       "    .dataframe tbody tr th {\n",
       "        vertical-align: top;\n",
       "    }\n",
       "\n",
       "    .dataframe thead th {\n",
       "        text-align: right;\n",
       "    }\n",
       "</style>\n",
       "<table border=\"1\" class=\"dataframe\">\n",
       "  <thead>\n",
       "    <tr style=\"text-align: right;\">\n",
       "      <th></th>\n",
       "      <th>Nome</th>\n",
       "      <th>Età</th>\n",
       "      <th>Città</th>\n",
       "      <th>Salario</th>\n",
       "    </tr>\n",
       "  </thead>\n",
       "  <tbody>\n",
       "    <tr>\n",
       "      <th>0</th>\n",
       "      <td>Carlo</td>\n",
       "      <td>16.0</td>\n",
       "      <td>Milano</td>\n",
       "      <td>1007.0</td>\n",
       "    </tr>\n",
       "    <tr>\n",
       "      <th>1</th>\n",
       "      <td>Mario</td>\n",
       "      <td>21.0</td>\n",
       "      <td>Siena</td>\n",
       "      <td>1024.0</td>\n",
       "    </tr>\n",
       "    <tr>\n",
       "      <th>2</th>\n",
       "      <td>Carlo</td>\n",
       "      <td>NaN</td>\n",
       "      <td>Roma</td>\n",
       "      <td>1015.0</td>\n",
       "    </tr>\n",
       "    <tr>\n",
       "      <th>3</th>\n",
       "      <td>Mario</td>\n",
       "      <td>19.0</td>\n",
       "      <td>Cosenza</td>\n",
       "      <td>1035.0</td>\n",
       "    </tr>\n",
       "    <tr>\n",
       "      <th>4</th>\n",
       "      <td>Carlo</td>\n",
       "      <td>NaN</td>\n",
       "      <td>Milano</td>\n",
       "      <td>1032.0</td>\n",
       "    </tr>\n",
       "  </tbody>\n",
       "</table>\n",
       "</div>"
      ],
      "text/plain": [
       "    Nome   Età    Città  Salario\n",
       "0  Carlo  16.0   Milano   1007.0\n",
       "1  Mario  21.0    Siena   1024.0\n",
       "2  Carlo   NaN     Roma   1015.0\n",
       "3  Mario  19.0  Cosenza   1035.0\n",
       "4  Carlo   NaN   Milano   1032.0"
      ]
     },
     "execution_count": 482,
     "metadata": {},
     "output_type": "execute_result"
    }
   ],
   "source": [
    "# Prime 5\n",
    "frame.head()"
   ]
  },
  {
   "cell_type": "code",
   "execution_count": 483,
   "metadata": {},
   "outputs": [
    {
     "data": {
      "text/html": [
       "<div>\n",
       "<style scoped>\n",
       "    .dataframe tbody tr th:only-of-type {\n",
       "        vertical-align: middle;\n",
       "    }\n",
       "\n",
       "    .dataframe tbody tr th {\n",
       "        vertical-align: top;\n",
       "    }\n",
       "\n",
       "    .dataframe thead th {\n",
       "        text-align: right;\n",
       "    }\n",
       "</style>\n",
       "<table border=\"1\" class=\"dataframe\">\n",
       "  <thead>\n",
       "    <tr style=\"text-align: right;\">\n",
       "      <th></th>\n",
       "      <th>Nome</th>\n",
       "      <th>Età</th>\n",
       "      <th>Città</th>\n",
       "      <th>Salario</th>\n",
       "    </tr>\n",
       "  </thead>\n",
       "  <tbody>\n",
       "    <tr>\n",
       "      <th>999995</th>\n",
       "      <td>Andrea</td>\n",
       "      <td>21.0</td>\n",
       "      <td>Catanzaro</td>\n",
       "      <td>1046.0</td>\n",
       "    </tr>\n",
       "    <tr>\n",
       "      <th>999996</th>\n",
       "      <td>Carlo</td>\n",
       "      <td>17.0</td>\n",
       "      <td>San Lucido</td>\n",
       "      <td>1007.0</td>\n",
       "    </tr>\n",
       "    <tr>\n",
       "      <th>999997</th>\n",
       "      <td>Carlo</td>\n",
       "      <td>18.0</td>\n",
       "      <td>Verona</td>\n",
       "      <td>1039.0</td>\n",
       "    </tr>\n",
       "    <tr>\n",
       "      <th>999998</th>\n",
       "      <td>Luigi</td>\n",
       "      <td>16.0</td>\n",
       "      <td>Cosenza</td>\n",
       "      <td>1013.0</td>\n",
       "    </tr>\n",
       "    <tr>\n",
       "      <th>999999</th>\n",
       "      <td>Mario</td>\n",
       "      <td>NaN</td>\n",
       "      <td>Cosenza</td>\n",
       "      <td>1002.0</td>\n",
       "    </tr>\n",
       "  </tbody>\n",
       "</table>\n",
       "</div>"
      ],
      "text/plain": [
       "          Nome   Età       Città  Salario\n",
       "999995  Andrea  21.0   Catanzaro   1046.0\n",
       "999996   Carlo  17.0  San Lucido   1007.0\n",
       "999997   Carlo  18.0      Verona   1039.0\n",
       "999998   Luigi  16.0     Cosenza   1013.0\n",
       "999999   Mario   NaN     Cosenza   1002.0"
      ]
     },
     "execution_count": 483,
     "metadata": {},
     "output_type": "execute_result"
    }
   ],
   "source": [
    "# Ultime 5\n",
    "frame.tail()"
   ]
  },
  {
   "cell_type": "code",
   "execution_count": 484,
   "metadata": {},
   "outputs": [
    {
     "name": "stdout",
     "output_type": "stream",
     "text": [
      "Tipo colonna Nome -> object\n",
      "Tipo colonna Età -> float64\n",
      "Tipo colonna Città -> object\n",
      "Tipo colonna Salario -> float64\n",
      "<class 'pandas.core.frame.DataFrame'>\n",
      "RangeIndex: 1000000 entries, 0 to 999999\n",
      "Data columns (total 4 columns):\n",
      " #   Column   Non-Null Count    Dtype  \n",
      "---  ------   --------------    -----  \n",
      " 0   Nome     1000000 non-null  object \n",
      " 1   Età      667179 non-null   float64\n",
      " 2   Città    1000000 non-null  object \n",
      " 3   Salario  908335 non-null   float64\n",
      "dtypes: float64(2), object(2)\n",
      "memory usage: 30.5+ MB\n"
     ]
    }
   ],
   "source": [
    "frame.keys()\n",
    "for key in frame.keys():\n",
    "    print(f'Tipo colonna {key} -> {frame[key].dtype}')\n",
    "    \n",
    "frame.info()"
   ]
  },
  {
   "cell_type": "code",
   "execution_count": 485,
   "metadata": {},
   "outputs": [
    {
     "data": {
      "text/html": [
       "<div>\n",
       "<style scoped>\n",
       "    .dataframe tbody tr th:only-of-type {\n",
       "        vertical-align: middle;\n",
       "    }\n",
       "\n",
       "    .dataframe tbody tr th {\n",
       "        vertical-align: top;\n",
       "    }\n",
       "\n",
       "    .dataframe thead th {\n",
       "        text-align: right;\n",
       "    }\n",
       "</style>\n",
       "<table border=\"1\" class=\"dataframe\">\n",
       "  <thead>\n",
       "    <tr style=\"text-align: right;\">\n",
       "      <th></th>\n",
       "      <th>Età</th>\n",
       "      <th>Salario</th>\n",
       "    </tr>\n",
       "  </thead>\n",
       "  <tbody>\n",
       "    <tr>\n",
       "      <th>count</th>\n",
       "      <td>667179.000000</td>\n",
       "      <td>908335.000000</td>\n",
       "    </tr>\n",
       "    <tr>\n",
       "      <th>mean</th>\n",
       "      <td>19.002023</td>\n",
       "      <td>1024.982211</td>\n",
       "    </tr>\n",
       "    <tr>\n",
       "      <th>std</th>\n",
       "      <td>2.000422</td>\n",
       "      <td>14.729681</td>\n",
       "    </tr>\n",
       "    <tr>\n",
       "      <th>min</th>\n",
       "      <td>16.000000</td>\n",
       "      <td>1000.000000</td>\n",
       "    </tr>\n",
       "    <tr>\n",
       "      <th>25%</th>\n",
       "      <td>17.000000</td>\n",
       "      <td>1012.000000</td>\n",
       "    </tr>\n",
       "    <tr>\n",
       "      <th>50%</th>\n",
       "      <td>19.000000</td>\n",
       "      <td>1025.000000</td>\n",
       "    </tr>\n",
       "    <tr>\n",
       "      <th>75%</th>\n",
       "      <td>21.000000</td>\n",
       "      <td>1038.000000</td>\n",
       "    </tr>\n",
       "    <tr>\n",
       "      <th>max</th>\n",
       "      <td>22.000000</td>\n",
       "      <td>1050.000000</td>\n",
       "    </tr>\n",
       "  </tbody>\n",
       "</table>\n",
       "</div>"
      ],
      "text/plain": [
       "                 Età        Salario\n",
       "count  667179.000000  908335.000000\n",
       "mean       19.002023    1024.982211\n",
       "std         2.000422      14.729681\n",
       "min        16.000000    1000.000000\n",
       "25%        17.000000    1012.000000\n",
       "50%        19.000000    1025.000000\n",
       "75%        21.000000    1038.000000\n",
       "max        22.000000    1050.000000"
      ]
     },
     "execution_count": 485,
     "metadata": {},
     "output_type": "execute_result"
    }
   ],
   "source": [
    "frame.describe()"
   ]
  },
  {
   "cell_type": "code",
   "execution_count": 486,
   "metadata": {},
   "outputs": [
    {
     "data": {
      "text/plain": [
       "(20384, 1000000)"
      ]
     },
     "execution_count": 486,
     "metadata": {},
     "output_type": "execute_result"
    }
   ],
   "source": [
    "frame2 = frame.drop_duplicates()\n",
    "len(frame2), len(frame)"
   ]
  },
  {
   "cell_type": "code",
   "execution_count": 487,
   "metadata": {},
   "outputs": [
    {
     "name": "stderr",
     "output_type": "stream",
     "text": [
      "C:\\Users\\danie\\AppData\\Local\\Temp\\ipykernel_11520\\3364226813.py:1: FutureWarning: A value is trying to be set on a copy of a DataFrame or Series through chained assignment using an inplace method.\n",
      "The behavior will change in pandas 3.0. This inplace method will never work because the intermediate object on which we are setting values always behaves as a copy.\n",
      "\n",
      "For example, when doing 'df[col].method(value, inplace=True)', try using 'df.method({col: value}, inplace=True)' or df[col] = df[col].method(value) instead, to perform the operation inplace on the original object.\n",
      "\n",
      "\n",
      "  frame['Età'].fillna(frame['Età'].mean(), inplace=True)\n",
      "C:\\Users\\danie\\AppData\\Local\\Temp\\ipykernel_11520\\3364226813.py:2: FutureWarning: A value is trying to be set on a copy of a DataFrame or Series through chained assignment using an inplace method.\n",
      "The behavior will change in pandas 3.0. This inplace method will never work because the intermediate object on which we are setting values always behaves as a copy.\n",
      "\n",
      "For example, when doing 'df[col].method(value, inplace=True)', try using 'df.method({col: value}, inplace=True)' or df[col] = df[col].method(value) instead, to perform the operation inplace on the original object.\n",
      "\n",
      "\n",
      "  frame['Salario'].fillna(frame['Età'].mean(), inplace=True)\n"
     ]
    }
   ],
   "source": [
    "frame['Età'].fillna(frame['Età'].mean(), inplace=True)\n",
    "frame['Salario'].fillna(frame['Età'].mean(), inplace=True)"
   ]
  },
  {
   "cell_type": "code",
   "execution_count": 488,
   "metadata": {},
   "outputs": [],
   "source": [
    "# frame['Categoria Età'] = frame['Età'].apply(lambda x: 'Giovane' if x <= 18 else 'Adulto' if x <= 65 else 'Senior')\n",
    "\n",
    "frame['Categoria Età'] = ''\n",
    "frame.loc[frame['Età']<=18, 'Categoria Età'] = 'Giovane'\n",
    "frame.loc[(frame['Età']>18) & (frame['Età']<=65), 'Categoria Età'] = 'Adulto'\n",
    "frame.loc[frame['Età']>65, 'Categoria Età'] = 'Senior'"
   ]
  },
  {
   "cell_type": "code",
   "execution_count": 489,
   "metadata": {},
   "outputs": [
    {
     "data": {
      "text/html": [
       "<div>\n",
       "<style scoped>\n",
       "    .dataframe tbody tr th:only-of-type {\n",
       "        vertical-align: middle;\n",
       "    }\n",
       "\n",
       "    .dataframe tbody tr th {\n",
       "        vertical-align: top;\n",
       "    }\n",
       "\n",
       "    .dataframe thead th {\n",
       "        text-align: right;\n",
       "    }\n",
       "</style>\n",
       "<table border=\"1\" class=\"dataframe\">\n",
       "  <thead>\n",
       "    <tr style=\"text-align: right;\">\n",
       "      <th></th>\n",
       "      <th>Nome</th>\n",
       "      <th>Età</th>\n",
       "      <th>Città</th>\n",
       "      <th>Salario</th>\n",
       "      <th>Categoria Età</th>\n",
       "    </tr>\n",
       "  </thead>\n",
       "  <tbody>\n",
       "    <tr>\n",
       "      <th>0</th>\n",
       "      <td>Carlo</td>\n",
       "      <td>16.000000</td>\n",
       "      <td>Milano</td>\n",
       "      <td>1007.0</td>\n",
       "      <td>Giovane</td>\n",
       "    </tr>\n",
       "    <tr>\n",
       "      <th>1</th>\n",
       "      <td>Mario</td>\n",
       "      <td>21.000000</td>\n",
       "      <td>Siena</td>\n",
       "      <td>1024.0</td>\n",
       "      <td>Adulto</td>\n",
       "    </tr>\n",
       "    <tr>\n",
       "      <th>2</th>\n",
       "      <td>Carlo</td>\n",
       "      <td>19.002023</td>\n",
       "      <td>Roma</td>\n",
       "      <td>1015.0</td>\n",
       "      <td>Adulto</td>\n",
       "    </tr>\n",
       "    <tr>\n",
       "      <th>3</th>\n",
       "      <td>Mario</td>\n",
       "      <td>19.000000</td>\n",
       "      <td>Cosenza</td>\n",
       "      <td>1035.0</td>\n",
       "      <td>Adulto</td>\n",
       "    </tr>\n",
       "    <tr>\n",
       "      <th>4</th>\n",
       "      <td>Carlo</td>\n",
       "      <td>19.002023</td>\n",
       "      <td>Milano</td>\n",
       "      <td>1032.0</td>\n",
       "      <td>Adulto</td>\n",
       "    </tr>\n",
       "    <tr>\n",
       "      <th>...</th>\n",
       "      <td>...</td>\n",
       "      <td>...</td>\n",
       "      <td>...</td>\n",
       "      <td>...</td>\n",
       "      <td>...</td>\n",
       "    </tr>\n",
       "    <tr>\n",
       "      <th>999995</th>\n",
       "      <td>Andrea</td>\n",
       "      <td>21.000000</td>\n",
       "      <td>Catanzaro</td>\n",
       "      <td>1046.0</td>\n",
       "      <td>Adulto</td>\n",
       "    </tr>\n",
       "    <tr>\n",
       "      <th>999996</th>\n",
       "      <td>Carlo</td>\n",
       "      <td>17.000000</td>\n",
       "      <td>San Lucido</td>\n",
       "      <td>1007.0</td>\n",
       "      <td>Giovane</td>\n",
       "    </tr>\n",
       "    <tr>\n",
       "      <th>999997</th>\n",
       "      <td>Carlo</td>\n",
       "      <td>18.000000</td>\n",
       "      <td>Verona</td>\n",
       "      <td>1039.0</td>\n",
       "      <td>Giovane</td>\n",
       "    </tr>\n",
       "    <tr>\n",
       "      <th>999998</th>\n",
       "      <td>Luigi</td>\n",
       "      <td>16.000000</td>\n",
       "      <td>Cosenza</td>\n",
       "      <td>1013.0</td>\n",
       "      <td>Giovane</td>\n",
       "    </tr>\n",
       "    <tr>\n",
       "      <th>999999</th>\n",
       "      <td>Mario</td>\n",
       "      <td>19.002023</td>\n",
       "      <td>Cosenza</td>\n",
       "      <td>1002.0</td>\n",
       "      <td>Adulto</td>\n",
       "    </tr>\n",
       "  </tbody>\n",
       "</table>\n",
       "<p>1000000 rows × 5 columns</p>\n",
       "</div>"
      ],
      "text/plain": [
       "          Nome        Età       Città  Salario Categoria Età\n",
       "0        Carlo  16.000000      Milano   1007.0       Giovane\n",
       "1        Mario  21.000000       Siena   1024.0        Adulto\n",
       "2        Carlo  19.002023        Roma   1015.0        Adulto\n",
       "3        Mario  19.000000     Cosenza   1035.0        Adulto\n",
       "4        Carlo  19.002023      Milano   1032.0        Adulto\n",
       "...        ...        ...         ...      ...           ...\n",
       "999995  Andrea  21.000000   Catanzaro   1046.0        Adulto\n",
       "999996   Carlo  17.000000  San Lucido   1007.0       Giovane\n",
       "999997   Carlo  18.000000      Verona   1039.0       Giovane\n",
       "999998   Luigi  16.000000     Cosenza   1013.0       Giovane\n",
       "999999   Mario  19.002023     Cosenza   1002.0        Adulto\n",
       "\n",
       "[1000000 rows x 5 columns]"
      ]
     },
     "execution_count": 489,
     "metadata": {},
     "output_type": "execute_result"
    }
   ],
   "source": [
    "frame"
   ]
  },
  {
   "cell_type": "code",
   "execution_count": 490,
   "metadata": {},
   "outputs": [],
   "source": [
    "frame.to_csv('dati_generati.csv')"
   ]
  }
 ],
 "metadata": {
  "kernelspec": {
   "display_name": "Python 3",
   "language": "python",
   "name": "python3"
  },
  "language_info": {
   "codemirror_mode": {
    "name": "ipython",
    "version": 3
   },
   "file_extension": ".py",
   "mimetype": "text/x-python",
   "name": "python",
   "nbconvert_exporter": "python",
   "pygments_lexer": "ipython3",
   "version": "3.12.3"
  }
 },
 "nbformat": 4,
 "nbformat_minor": 2
}
