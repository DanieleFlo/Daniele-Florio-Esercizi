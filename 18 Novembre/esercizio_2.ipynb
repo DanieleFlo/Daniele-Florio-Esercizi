{
 "cells": [
  {
   "cell_type": "markdown",
   "metadata": {},
   "source": [
    "Creare un dataFrame con 10 righe e 3 colonne, riempito con numeri random"
   ]
  },
  {
   "cell_type": "code",
   "execution_count": 5,
   "metadata": {},
   "outputs": [
    {
     "data": {
      "text/plain": [
       "('1.26.4', '2.2.2')"
      ]
     },
     "execution_count": 5,
     "metadata": {},
     "output_type": "execute_result"
    }
   ],
   "source": [
    "import numpy as np\n",
    "import pandas as pd\n",
    "np.__version__, pd.__version__"
   ]
  },
  {
   "cell_type": "code",
   "execution_count": null,
   "metadata": {},
   "outputs": [
    {
     "data": {
      "text/plain": [
       "(array([4, 8, 8, 2, 9, 9, 6, 2, 6, 6, 9, 7]), array([11, 10,  4]))"
      ]
     },
     "execution_count": 6,
     "metadata": {},
     "output_type": "execute_result"
    }
   ],
   "source": [
    "NUMERI = 15\n",
    "array = np.random.randint(1, 10, NUMERI)\n",
    "\n",
    "index = np.random.choice(np.arange(NUMERI), size=3, replace=False)\n",
    "array =np.delete(array, index)\n",
    "array, index"
   ]
  },
  {
   "cell_type": "code",
   "execution_count": null,
   "metadata": {},
   "outputs": [
    {
     "data": {
      "text/plain": [
       "0     4\n",
       "1     8\n",
       "2     8\n",
       "3     2\n",
       "4     9\n",
       "5     9\n",
       "6     6\n",
       "7     2\n",
       "8     6\n",
       "9     6\n",
       "10    9\n",
       "11    7\n",
       "dtype: int32"
      ]
     },
     "execution_count": 7,
     "metadata": {},
     "output_type": "execute_result"
    }
   ],
   "source": [
    "obj = pd.Series(array)\n",
    "obj"
   ]
  },
  {
   "cell_type": "code",
   "execution_count": 8,
   "metadata": {},
   "outputs": [
    {
     "data": {
      "text/plain": [
       "0     4\n",
       "1     8\n",
       "2     8\n",
       "3     2\n",
       "4     9\n",
       "5     9\n",
       "6     6\n",
       "7     2\n",
       "8     6\n",
       "9     6\n",
       "10    9\n",
       "11    7\n",
       "12    7\n",
       "13    7\n",
       "14    7\n",
       "dtype: int32"
      ]
     },
     "execution_count": 8,
     "metadata": {},
     "output_type": "execute_result"
    }
   ],
   "source": [
    "\n",
    "res = obj.reindex(np.arange(NUMERI), method=\"ffill\")\n",
    "res"
   ]
  }
 ],
 "metadata": {
  "kernelspec": {
   "display_name": "Python 3",
   "language": "python",
   "name": "python3"
  },
  "language_info": {
   "codemirror_mode": {
    "name": "ipython",
    "version": 3
   },
   "file_extension": ".py",
   "mimetype": "text/x-python",
   "name": "python",
   "nbconvert_exporter": "python",
   "pygments_lexer": "ipython3",
   "version": "3.12.3"
  }
 },
 "nbformat": 4,
 "nbformat_minor": 2
}
