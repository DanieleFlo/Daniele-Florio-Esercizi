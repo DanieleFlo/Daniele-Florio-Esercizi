{
 "cells": [
  {
   "cell_type": "markdown",
   "metadata": {},
   "source": [
    "Manipolazione e Aggregazione dei Dati"
   ]
  },
  {
   "cell_type": "markdown",
   "metadata": {},
   "source": [
    "Obiettivo: Approfondire le capacità di manipolazione e aggregazione dei dati con\n",
    "pandas.\n",
    "\n",
    "\n",
    "\n",
    "Dataset: Utilizzare un dataset che registra le vendite di prodotti in diverse\n",
    "città, includendo le colonne Prodotto, Quantità, Prezzo Unitario e Città.\n",
    "\n",
    "\n",
    "\n",
    "Caricare i dati in un DataFrame.\n",
    "Aggiungere una colonna \"Totale Vendite\" che sia il risultato del prodotto tra\n",
    "Quantità e Prezzo Unitario.\n",
    "Raggruppare i dati per Prodotto e calcolare il totale delle vendite per\n",
    "ciascun prodotto.\n",
    "Trovare il prodotto più venduto in termini di Quantità.\n",
    "Identificare la città con il maggior volume di vendite totali.\n",
    "Creare un nuovo DataFrame che mostri solo le vendite superiori a un certo\n",
    "valore (es., 1000 euro).\n",
    "Ordinare il DataFrame originale per la colonna \"Totale Vendite\" in ordine\n",
    "decrescente.\n",
    "Visualizzare il numero di vendite per ogni città."
   ]
  },
  {
   "cell_type": "code",
   "execution_count": 268,
   "metadata": {},
   "outputs": [
    {
     "data": {
      "text/plain": [
       "('1.26.4', '2.2.2')"
      ]
     },
     "execution_count": 268,
     "metadata": {},
     "output_type": "execute_result"
    }
   ],
   "source": [
    "import numpy as np\n",
    "import pandas as pd\n",
    "np.__version__, pd.__version__"
   ]
  },
  {
   "cell_type": "code",
   "execution_count": 269,
   "metadata": {},
   "outputs": [
    {
     "data": {
      "text/html": [
       "<div>\n",
       "<style scoped>\n",
       "    .dataframe tbody tr th:only-of-type {\n",
       "        vertical-align: middle;\n",
       "    }\n",
       "\n",
       "    .dataframe tbody tr th {\n",
       "        vertical-align: top;\n",
       "    }\n",
       "\n",
       "    .dataframe thead th {\n",
       "        text-align: right;\n",
       "    }\n",
       "</style>\n",
       "<table border=\"1\" class=\"dataframe\">\n",
       "  <thead>\n",
       "    <tr style=\"text-align: right;\">\n",
       "      <th></th>\n",
       "      <th>Prodotto</th>\n",
       "      <th>Città</th>\n",
       "      <th>Quantità</th>\n",
       "      <th>Prezzo Unitario</th>\n",
       "    </tr>\n",
       "  </thead>\n",
       "  <tbody>\n",
       "    <tr>\n",
       "      <th>0</th>\n",
       "      <td>Cacicavallo</td>\n",
       "      <td>Milano</td>\n",
       "      <td>2</td>\n",
       "      <td>29</td>\n",
       "    </tr>\n",
       "    <tr>\n",
       "      <th>1</th>\n",
       "      <td>Patate</td>\n",
       "      <td>Verona</td>\n",
       "      <td>3</td>\n",
       "      <td>8</td>\n",
       "    </tr>\n",
       "    <tr>\n",
       "      <th>2</th>\n",
       "      <td>Porcini</td>\n",
       "      <td>Milano</td>\n",
       "      <td>2</td>\n",
       "      <td>14</td>\n",
       "    </tr>\n",
       "    <tr>\n",
       "      <th>3</th>\n",
       "      <td>Porcini</td>\n",
       "      <td>San Lucido</td>\n",
       "      <td>5</td>\n",
       "      <td>15</td>\n",
       "    </tr>\n",
       "    <tr>\n",
       "      <th>4</th>\n",
       "      <td>Mortadella</td>\n",
       "      <td>Cosenza</td>\n",
       "      <td>4</td>\n",
       "      <td>24</td>\n",
       "    </tr>\n",
       "  </tbody>\n",
       "</table>\n",
       "</div>"
      ],
      "text/plain": [
       "      Prodotto       Città  Quantità  Prezzo Unitario\n",
       "0  Cacicavallo      Milano         2               29\n",
       "1       Patate      Verona         3                8\n",
       "2      Porcini      Milano         2               14\n",
       "3      Porcini  San Lucido         5               15\n",
       "4   Mortadella     Cosenza         4               24"
      ]
     },
     "execution_count": 269,
     "metadata": {},
     "output_type": "execute_result"
    }
   ],
   "source": [
    "colonne = [\"Prodotto\", \"Quantità\", \"Prezzo Unitario\", \"Città\"]\n",
    "lista_citta = ['Roma', 'Siena', 'Milano', 'Verona', 'Cosenza', 'Catanzaro', 'San Lucido']\n",
    "lista_prodotti =['Cacicavallo', 'Mortadella', 'Mozzarella', 'Porcini', 'Patate' ]\n",
    "LEN_DATA = 1000\n",
    "\n",
    "# Creo il DataFrame\n",
    "\n",
    "df = pd.DataFrame({\n",
    "    \"Prodotto\":np.random.choice(lista_prodotti, LEN_DATA),\n",
    "    \"Città\":np.random.choice(lista_citta, LEN_DATA),\n",
    "    \"Quantità\":np.random.randint(1, 10, LEN_DATA),\n",
    "    \"Prezzo Unitario\": np.random.randint(5, 30, LEN_DATA)\n",
    "    })\n",
    "df.head()\n",
    "\n"
   ]
  },
  {
   "cell_type": "code",
   "execution_count": 270,
   "metadata": {},
   "outputs": [
    {
     "data": {
      "text/html": [
       "<div>\n",
       "<style scoped>\n",
       "    .dataframe tbody tr th:only-of-type {\n",
       "        vertical-align: middle;\n",
       "    }\n",
       "\n",
       "    .dataframe tbody tr th {\n",
       "        vertical-align: top;\n",
       "    }\n",
       "\n",
       "    .dataframe thead th {\n",
       "        text-align: right;\n",
       "    }\n",
       "</style>\n",
       "<table border=\"1\" class=\"dataframe\">\n",
       "  <thead>\n",
       "    <tr style=\"text-align: right;\">\n",
       "      <th></th>\n",
       "      <th>Prodotto</th>\n",
       "      <th>Città</th>\n",
       "      <th>Quantità</th>\n",
       "      <th>Prezzo Unitario</th>\n",
       "      <th>Totale Vendite</th>\n",
       "    </tr>\n",
       "  </thead>\n",
       "  <tbody>\n",
       "    <tr>\n",
       "      <th>0</th>\n",
       "      <td>Cacicavallo</td>\n",
       "      <td>Milano</td>\n",
       "      <td>2</td>\n",
       "      <td>29</td>\n",
       "      <td>58</td>\n",
       "    </tr>\n",
       "    <tr>\n",
       "      <th>1</th>\n",
       "      <td>Patate</td>\n",
       "      <td>Verona</td>\n",
       "      <td>3</td>\n",
       "      <td>8</td>\n",
       "      <td>24</td>\n",
       "    </tr>\n",
       "    <tr>\n",
       "      <th>2</th>\n",
       "      <td>Porcini</td>\n",
       "      <td>Milano</td>\n",
       "      <td>2</td>\n",
       "      <td>14</td>\n",
       "      <td>28</td>\n",
       "    </tr>\n",
       "    <tr>\n",
       "      <th>3</th>\n",
       "      <td>Porcini</td>\n",
       "      <td>San Lucido</td>\n",
       "      <td>5</td>\n",
       "      <td>15</td>\n",
       "      <td>75</td>\n",
       "    </tr>\n",
       "    <tr>\n",
       "      <th>4</th>\n",
       "      <td>Mortadella</td>\n",
       "      <td>Cosenza</td>\n",
       "      <td>4</td>\n",
       "      <td>24</td>\n",
       "      <td>96</td>\n",
       "    </tr>\n",
       "  </tbody>\n",
       "</table>\n",
       "</div>"
      ],
      "text/plain": [
       "      Prodotto       Città  Quantità  Prezzo Unitario  Totale Vendite\n",
       "0  Cacicavallo      Milano         2               29              58\n",
       "1       Patate      Verona         3                8              24\n",
       "2      Porcini      Milano         2               14              28\n",
       "3      Porcini  San Lucido         5               15              75\n",
       "4   Mortadella     Cosenza         4               24              96"
      ]
     },
     "execution_count": 270,
     "metadata": {},
     "output_type": "execute_result"
    }
   ],
   "source": [
    "df[\"Totale Vendite\"] = df[\"Quantità\"] * df[\"Prezzo Unitario\"]\n",
    "df.head()\n"
   ]
  },
  {
   "cell_type": "code",
   "execution_count": 271,
   "metadata": {},
   "outputs": [
    {
     "data": {
      "text/plain": [
       "Prodotto\n",
       "Mortadella     18472\n",
       "Patate         16957\n",
       "Mozzarella     16933\n",
       "Cacicavallo    16823\n",
       "Porcini        15632\n",
       "Name: Totale Vendite, dtype: int32"
      ]
     },
     "execution_count": 271,
     "metadata": {},
     "output_type": "execute_result"
    }
   ],
   "source": [
    "grup_prodotti = df['Totale Vendite'].groupby(df['Prodotto'])\n",
    "\n",
    "# Totale delle vendite per ogni prodotto\n",
    "\n",
    "totale_prodotti = grup_prodotti.sum()\n",
    "totale_prodotti.sort_values(ascending=False, inplace=True)\n",
    "totale_prodotti\n"
   ]
  },
  {
   "cell_type": "code",
   "execution_count": 272,
   "metadata": {},
   "outputs": [
    {
     "data": {
      "text/plain": [
       "('Mortadella', 953)"
      ]
     },
     "execution_count": 272,
     "metadata": {},
     "output_type": "execute_result"
    }
   ],
   "source": [
    "grup_prodotti2 = df['Quantità'].groupby(df['Prodotto'])\n",
    "df_qty = grup_prodotti2.sum()\n",
    "df_qty.sort_values(ascending=False, inplace=True)\n",
    "df_qty.idxmax(), df_qty[df_qty.idxmin()]"
   ]
  },
  {
   "cell_type": "code",
   "execution_count": 273,
   "metadata": {},
   "outputs": [
    {
     "data": {
      "text/plain": [
       "('San Lucido', 593)"
      ]
     },
     "execution_count": 273,
     "metadata": {},
     "output_type": "execute_result"
    }
   ],
   "source": [
    "grup_prodotti3 = df['Quantità'].groupby(df['Città'])\n",
    "df_city = grup_prodotti3.sum()\n",
    "df_city.sort_values(ascending=False, inplace=True)\n",
    "df_city.idxmax(), df_city[df_city.idxmin()]"
   ]
  },
  {
   "cell_type": "code",
   "execution_count": 274,
   "metadata": {},
   "outputs": [
    {
     "data": {
      "text/html": [
       "<div>\n",
       "<style scoped>\n",
       "    .dataframe tbody tr th:only-of-type {\n",
       "        vertical-align: middle;\n",
       "    }\n",
       "\n",
       "    .dataframe tbody tr th {\n",
       "        vertical-align: top;\n",
       "    }\n",
       "\n",
       "    .dataframe thead th {\n",
       "        text-align: right;\n",
       "    }\n",
       "</style>\n",
       "<table border=\"1\" class=\"dataframe\">\n",
       "  <thead>\n",
       "    <tr style=\"text-align: right;\">\n",
       "      <th></th>\n",
       "      <th>Prodotto</th>\n",
       "      <th>Città</th>\n",
       "      <th>Quantità</th>\n",
       "      <th>Prezzo Unitario</th>\n",
       "      <th>Totale Vendite</th>\n",
       "    </tr>\n",
       "  </thead>\n",
       "  <tbody>\n",
       "    <tr>\n",
       "      <th>5</th>\n",
       "      <td>Mozzarella</td>\n",
       "      <td>Milano</td>\n",
       "      <td>8</td>\n",
       "      <td>24</td>\n",
       "      <td>192</td>\n",
       "    </tr>\n",
       "    <tr>\n",
       "      <th>6</th>\n",
       "      <td>Patate</td>\n",
       "      <td>Cosenza</td>\n",
       "      <td>7</td>\n",
       "      <td>29</td>\n",
       "      <td>203</td>\n",
       "    </tr>\n",
       "    <tr>\n",
       "      <th>8</th>\n",
       "      <td>Porcini</td>\n",
       "      <td>Verona</td>\n",
       "      <td>6</td>\n",
       "      <td>6</td>\n",
       "      <td>36</td>\n",
       "    </tr>\n",
       "    <tr>\n",
       "      <th>9</th>\n",
       "      <td>Mortadella</td>\n",
       "      <td>Roma</td>\n",
       "      <td>9</td>\n",
       "      <td>23</td>\n",
       "      <td>207</td>\n",
       "    </tr>\n",
       "    <tr>\n",
       "      <th>10</th>\n",
       "      <td>Patate</td>\n",
       "      <td>Roma</td>\n",
       "      <td>7</td>\n",
       "      <td>7</td>\n",
       "      <td>49</td>\n",
       "    </tr>\n",
       "  </tbody>\n",
       "</table>\n",
       "</div>"
      ],
      "text/plain": [
       "      Prodotto    Città  Quantità  Prezzo Unitario  Totale Vendite\n",
       "5   Mozzarella   Milano         8               24             192\n",
       "6       Patate  Cosenza         7               29             203\n",
       "8      Porcini   Verona         6                6              36\n",
       "9   Mortadella     Roma         9               23             207\n",
       "10      Patate     Roma         7                7              49"
      ]
     },
     "execution_count": 274,
     "metadata": {},
     "output_type": "execute_result"
    }
   ],
   "source": [
    "new_df = df[df['Quantità']>5]\n",
    "new_df.head()"
   ]
  },
  {
   "cell_type": "code",
   "execution_count": 275,
   "metadata": {},
   "outputs": [
    {
     "data": {
      "text/plain": [
       "Città\n",
       "Siena         10163\n",
       "Milano        10299\n",
       "Verona        11654\n",
       "Catanzaro     12478\n",
       "Cosenza       12894\n",
       "Roma          13594\n",
       "San Lucido    13735\n",
       "Name: Totale Vendite, dtype: int32"
      ]
     },
     "execution_count": 275,
     "metadata": {},
     "output_type": "execute_result"
    }
   ],
   "source": [
    "group_city_2 = df['Totale Vendite'].groupby(df['Città'])\n",
    "df_city_2 = group_city_2.sum()\n",
    "df_city_2.sort_values( ascending=True, inplace=True)\n",
    "df_city_2"
   ]
  },
  {
   "cell_type": "code",
   "execution_count": 277,
   "metadata": {},
   "outputs": [
    {
     "data": {
      "text/plain": [
       "Città\n",
       "Catanzaro     12478\n",
       "Cosenza       12894\n",
       "Milano        10299\n",
       "Roma          13594\n",
       "San Lucido    13735\n",
       "Siena         10163\n",
       "Verona        11654\n",
       "Name: Totale Vendite, dtype: int32"
      ]
     },
     "execution_count": 277,
     "metadata": {},
     "output_type": "execute_result"
    }
   ],
   "source": [
    "grup_prodotti4 = df['Totale Vendite'].groupby(df['Città'])\n",
    "df_tot= grup_prodotti4.sum()\n",
    "df_tot"
   ]
  }
 ],
 "metadata": {
  "kernelspec": {
   "display_name": "Python 3",
   "language": "python",
   "name": "python3"
  },
  "language_info": {
   "codemirror_mode": {
    "name": "ipython",
    "version": 3
   },
   "file_extension": ".py",
   "mimetype": "text/x-python",
   "name": "python",
   "nbconvert_exporter": "python",
   "pygments_lexer": "ipython3",
   "version": "3.12.3"
  }
 },
 "nbformat": 4,
 "nbformat_minor": 2
}
