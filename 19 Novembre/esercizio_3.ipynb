{
 "cells": [
  {
   "cell_type": "code",
   "execution_count": 480,
   "metadata": {},
   "outputs": [],
   "source": [
    "import pandas as pd\n",
    "import numpy as np"
   ]
  },
  {
   "cell_type": "code",
   "execution_count": 481,
   "metadata": {},
   "outputs": [
    {
     "name": "stdout",
     "output_type": "stream",
     "text": [
      "   Regione Prodotto  Vendite\n",
      "0     Nord        A      100\n",
      "1      Sud        A      150\n",
      "2     Nord        B      200\n",
      "3      Est        B      250\n",
      "4    Ovest        A      300\n",
      "5      Sud        B      350\n",
      "6      Est        A      400\n",
      "7     Nord        B      180\n",
      "8    Ovest        B      260\n",
      "9      Sud        A      220\n",
      "10    Nord        A      130\n",
      "11     Est        B      310\n",
      "12     Sud        A      170\n"
     ]
    }
   ],
   "source": [
    "data = {\n",
    "'Regione': [\n",
    "'Nord', 'Sud', 'Nord', 'Est', 'Ovest', 'Sud',\n",
    "'Est', 'Nord', 'Ovest', 'Sud', 'Nord', 'Est', 'Sud'\n",
    "],\n",
    "'Prodotto': [\n",
    "'A', 'A', 'B', 'B', 'A', 'B',\n",
    "'A', 'B', 'B', 'A', 'A', 'B', 'A'\n",
    "],\n",
    "'Vendite': [\n",
    "100, 150, 200, 250, 300, 350,\n",
    "400, 180, 260, 220, 130, 310, 170\n",
    "]\n",
    "}\n",
    "\n",
    "df = pd.DataFrame(data)\n",
    "print(df)"
   ]
  },
  {
   "cell_type": "code",
   "execution_count": 482,
   "metadata": {},
   "outputs": [
    {
     "name": "stdout",
     "output_type": "stream",
     "text": [
      "Prodotto    A    B\n",
      "Regione           \n",
      "Est       400  560\n",
      "Nord      230  380\n",
      "Ovest     300  260\n",
      "Sud       540  350\n"
     ]
    }
   ],
   "source": [
    "pivot_sum = df.pivot_table(values='Vendite', index='Regione', columns='Prodotto', aggfunc='sum', fill_value=0)\n",
    "print(pivot_sum)"
   ]
  },
  {
   "cell_type": "code",
   "execution_count": 483,
   "metadata": {},
   "outputs": [
    {
     "name": "stdout",
     "output_type": "stream",
     "text": [
      "          sum        mean       \n",
      "Prodotto    A    B      A      B\n",
      "Regione                         \n",
      "Est       400  560  400.0  280.0\n",
      "Nord      230  380  115.0  190.0\n",
      "Ovest     300  260  300.0  260.0\n",
      "Sud       540  350  180.0  350.0\n"
     ]
    }
   ],
   "source": [
    "pivot_multi = df.pivot_table(values='Vendite', index='Regione', columns='Prodotto', aggfunc=['sum', 'mean'], fill_value=0)\n",
    "print(pivot_multi)"
   ]
  },
  {
   "cell_type": "code",
   "execution_count": 484,
   "metadata": {},
   "outputs": [
    {
     "name": "stdout",
     "output_type": "stream",
     "text": [
      "Prodotto   A   B\n",
      "Regione         \n",
      "Est        0  60\n",
      "Nord      30  20\n",
      "Ovest      0   0\n",
      "Sud       70   0\n"
     ]
    }
   ],
   "source": [
    "def range_vendite(x):\n",
    "    return x.max() - x.min()\n",
    "\n",
    "pivot_custom = df.pivot_table(values='Vendite', index='Regione', columns='Prodotto', aggfunc=range_vendite, fill_value=0)\n",
    "print(pivot_custom)"
   ]
  },
  {
   "cell_type": "markdown",
   "metadata": {},
   "source": [
    "mostrare la media delle vendite di ogni combinazione di Regione e Prodotto"
   ]
  },
  {
   "cell_type": "code",
   "execution_count": 485,
   "metadata": {},
   "outputs": [],
   "source": [
    "data = {\n",
    "'Regione': ['Nord', 'Sud', 'Nord', 'Est', 'Ovest', 'Sud', 'Est', 'Ovest', 'Sud', 'Est', 'Sud', 'Ovest'],\n",
    "'Prodotto': ['B', 'A', 'B', 'B', 'A', 'B', 'A', 'B', 'B', 'A', 'A', 'B'],\n",
    "'Vendite': [100, 150, 200, 250, 300, 350, 400, 450, 150, 1100, 50, 200]\n",
    "}\n",
    "df = pd.DataFrame(data)"
   ]
  },
  {
   "cell_type": "code",
   "execution_count": 486,
   "metadata": {},
   "outputs": [
    {
     "data": {
      "text/html": [
       "<div>\n",
       "<style scoped>\n",
       "    .dataframe tbody tr th:only-of-type {\n",
       "        vertical-align: middle;\n",
       "    }\n",
       "\n",
       "    .dataframe tbody tr th {\n",
       "        vertical-align: top;\n",
       "    }\n",
       "\n",
       "    .dataframe thead tr th {\n",
       "        text-align: left;\n",
       "    }\n",
       "\n",
       "    .dataframe thead tr:last-of-type th {\n",
       "        text-align: right;\n",
       "    }\n",
       "</style>\n",
       "<table border=\"1\" class=\"dataframe\">\n",
       "  <thead>\n",
       "    <tr>\n",
       "      <th></th>\n",
       "      <th colspan=\"2\" halign=\"left\">mean</th>\n",
       "      <th colspan=\"2\" halign=\"left\">std</th>\n",
       "    </tr>\n",
       "    <tr>\n",
       "      <th>Prodotto</th>\n",
       "      <th>A</th>\n",
       "      <th>B</th>\n",
       "      <th>A</th>\n",
       "      <th>B</th>\n",
       "    </tr>\n",
       "    <tr>\n",
       "      <th>Regione</th>\n",
       "      <th></th>\n",
       "      <th></th>\n",
       "      <th></th>\n",
       "      <th></th>\n",
       "    </tr>\n",
       "  </thead>\n",
       "  <tbody>\n",
       "    <tr>\n",
       "      <th>Est</th>\n",
       "      <td>750.0</td>\n",
       "      <td>250.0</td>\n",
       "      <td>494.974747</td>\n",
       "      <td>0.000000</td>\n",
       "    </tr>\n",
       "    <tr>\n",
       "      <th>Nord</th>\n",
       "      <td>0.0</td>\n",
       "      <td>150.0</td>\n",
       "      <td>0.000000</td>\n",
       "      <td>70.710678</td>\n",
       "    </tr>\n",
       "    <tr>\n",
       "      <th>Ovest</th>\n",
       "      <td>300.0</td>\n",
       "      <td>325.0</td>\n",
       "      <td>0.000000</td>\n",
       "      <td>176.776695</td>\n",
       "    </tr>\n",
       "    <tr>\n",
       "      <th>Sud</th>\n",
       "      <td>100.0</td>\n",
       "      <td>250.0</td>\n",
       "      <td>70.710678</td>\n",
       "      <td>141.421356</td>\n",
       "    </tr>\n",
       "  </tbody>\n",
       "</table>\n",
       "</div>"
      ],
      "text/plain": [
       "           mean                std            \n",
       "Prodotto      A      B           A           B\n",
       "Regione                                       \n",
       "Est       750.0  250.0  494.974747    0.000000\n",
       "Nord        0.0  150.0    0.000000   70.710678\n",
       "Ovest     300.0  325.0    0.000000  176.776695\n",
       "Sud       100.0  250.0   70.710678  141.421356"
      ]
     },
     "execution_count": 486,
     "metadata": {},
     "output_type": "execute_result"
    }
   ],
   "source": [
    "# esempio_fn = {\n",
    "#     'D': sum,\n",
    "#     'F': mean,\n",
    "# }\n",
    "# pivot_custom = df.pivot_table(values='Vendite', index='Regione', columns='Prodotto', aggfunc=esempio_fn, fill_value=0)\n",
    "pivot_custom = df.pivot_table(values='Vendite', index='Regione', columns='Prodotto', aggfunc=['mean', 'std'], fill_value=0)\n",
    "pivot_custom"
   ]
  },
  {
   "cell_type": "markdown",
   "metadata": {},
   "source": [
    "Prendiamo i dati di prima e calcoliamo la varianza"
   ]
  },
  {
   "cell_type": "code",
   "execution_count": 487,
   "metadata": {},
   "outputs": [
    {
     "name": "stdout",
     "output_type": "stream",
     "text": [
      "122499.0 / 122500.0\n",
      "0.0 / 0.0\n",
      "2499.0 / 2500.0\n",
      "0.0 / 0.0\n",
      "15624.0 / 15625.0\n",
      "2499.0 / 2500.0\n",
      "9999.0 / 10000.0\n"
     ]
    },
    {
     "data": {
      "text/html": [
       "<div>\n",
       "<style scoped>\n",
       "    .dataframe tbody tr th:only-of-type {\n",
       "        vertical-align: middle;\n",
       "    }\n",
       "\n",
       "    .dataframe tbody tr th {\n",
       "        vertical-align: top;\n",
       "    }\n",
       "\n",
       "    .dataframe thead th {\n",
       "        text-align: right;\n",
       "    }\n",
       "</style>\n",
       "<table border=\"1\" class=\"dataframe\">\n",
       "  <thead>\n",
       "    <tr style=\"text-align: right;\">\n",
       "      <th>Prodotto</th>\n",
       "      <th>A</th>\n",
       "      <th>B</th>\n",
       "    </tr>\n",
       "    <tr>\n",
       "      <th>Regione</th>\n",
       "      <th></th>\n",
       "      <th></th>\n",
       "    </tr>\n",
       "  </thead>\n",
       "  <tbody>\n",
       "    <tr>\n",
       "      <th>Est</th>\n",
       "      <td>122500.0</td>\n",
       "      <td>0.0</td>\n",
       "    </tr>\n",
       "    <tr>\n",
       "      <th>Nord</th>\n",
       "      <td>0.0</td>\n",
       "      <td>2500.0</td>\n",
       "    </tr>\n",
       "    <tr>\n",
       "      <th>Ovest</th>\n",
       "      <td>0.0</td>\n",
       "      <td>15625.0</td>\n",
       "    </tr>\n",
       "    <tr>\n",
       "      <th>Sud</th>\n",
       "      <td>2500.0</td>\n",
       "      <td>10000.0</td>\n",
       "    </tr>\n",
       "  </tbody>\n",
       "</table>\n",
       "</div>"
      ],
      "text/plain": [
       "Prodotto         A        B\n",
       "Regione                    \n",
       "Est       122500.0      0.0\n",
       "Nord           0.0   2500.0\n",
       "Ovest          0.0  15625.0\n",
       "Sud         2500.0  10000.0"
      ]
     },
     "execution_count": 487,
     "metadata": {},
     "output_type": "execute_result"
    }
   ],
   "source": [
    "def calc_variance(x):\n",
    "    media = np.mean(x)\n",
    "    s=0.\n",
    "    n = 0.\n",
    "    for i in x.values:\n",
    "        s += (i-media)**2\n",
    "        n +=1\n",
    "    if n>1:\n",
    "        s = s/n-1\n",
    "    else:\n",
    "        s=0.\n",
    "    print(s,'/',np.var(x))\n",
    "    return np.var(x)\n",
    "\n",
    "pivot_custom2 = df.pivot_table(values='Vendite', index='Regione', columns='Prodotto', aggfunc=calc_variance, fill_value=0)\n",
    "pivot_custom2"
   ]
  }
 ],
 "metadata": {
  "kernelspec": {
   "display_name": "Python 3",
   "language": "python",
   "name": "python3"
  },
  "language_info": {
   "codemirror_mode": {
    "name": "ipython",
    "version": 3
   },
   "file_extension": ".py",
   "mimetype": "text/x-python",
   "name": "python",
   "nbconvert_exporter": "python",
   "pygments_lexer": "ipython3",
   "version": "3.12.3"
  }
 },
 "nbformat": 4,
 "nbformat_minor": 2
}
